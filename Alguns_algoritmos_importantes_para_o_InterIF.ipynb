{
  "nbformat": 4,
  "nbformat_minor": 0,
  "metadata": {
    "colab": {
      "provenance": [],
      "include_colab_link": true
    },
    "kernelspec": {
      "name": "python3",
      "display_name": "Python 3"
    },
    "language_info": {
      "name": "python"
    }
  },
  "cells": [
    {
      "cell_type": "markdown",
      "metadata": {
        "id": "view-in-github",
        "colab_type": "text"
      },
      "source": [
        "<a href=\"https://colab.research.google.com/github/Andre-06/Andre-06/blob/main/Alguns_algoritmos_importantes_para_o_InterIF.ipynb\" target=\"_parent\"><img src=\"https://colab.research.google.com/assets/colab-badge.svg\" alt=\"Open In Colab\"/></a>"
      ]
    },
    {
      "cell_type": "markdown",
      "source": [
        "# Alguns algoritmos importantes"
      ],
      "metadata": {
        "id": "BAoE_j49IX1D"
      }
    },
    {
      "cell_type": "markdown",
      "source": [
        "### **Algoritmo de Euclides**\n",
        "\n",
        "O Algoritmo de Euclides é um método eficiente para calcular o Máximo Divisor Comum (MDC) de dois números inteiros. O MDC de dois números é o maior número que divide ambos sem deixar resto."
      ],
      "metadata": {
        "id": "D8aU_vWodYa8"
      }
    },
    {
      "cell_type": "code",
      "source": [
        "def mdc(a, b):\n",
        "    while b != 0:\n",
        "        a, b = b, a % b\n",
        "\n",
        "    return a\n",
        "\n",
        "mdc(48, 18)"
      ],
      "metadata": {
        "colab": {
          "base_uri": "https://localhost:8080/"
        },
        "id": "E4gwKpXbdhWX",
        "outputId": "8fa06ce1-c694-4194-8b61-b4f4f14bf209"
      },
      "execution_count": null,
      "outputs": [
        {
          "output_type": "execute_result",
          "data": {
            "text/plain": [
              "6"
            ]
          },
          "metadata": {},
          "execution_count": 45
        }
      ]
    },
    {
      "cell_type": "markdown",
      "source": [
        "### **Algoritmos gulosos**\n",
        "\n",
        "Algoritmos gulosos (ou greedy) são uma categoria de algoritmos que tomam decisões locais e imediatas, escolhendo a melhor opção disponível em cada etapa, com a esperança de que essas escolhas conduzam a uma solução ótima para o problema como um todo. A característica central dos algoritmos gulosos é que eles não reconsideram as decisões tomadas; uma vez que algo é escolhido, essa escolha é definitiva."
      ],
      "metadata": {
        "id": "8bhlzW08WaIa"
      }
    },
    {
      "cell_type": "markdown",
      "source": [
        "#### Problema da mochila fracionária"
      ],
      "metadata": {
        "id": "uYHwg1YXbrhz"
      }
    },
    {
      "cell_type": "code",
      "source": [
        "def mochila_fracionaria(itens, capacidade):\n",
        "\n",
        "    itens.sort(key=lambda x: x[1] / x[0], reverse=True)\n",
        "\n",
        "    for peso, valor in itens:\n",
        "        if capacidade >= peso:\n",
        "            capacidade -= peso\n",
        "            valor_total += valor\n",
        "        else:\n",
        "            valor_total += valor * (capacidade / peso)\n",
        "            break\n",
        "\n",
        "    return valor_total\n",
        "\n",
        "itens = [(10, 60), (20, 100), (30, 120)]\n",
        "capacidade = 50\n",
        "\n",
        "mochila_fracionaria(itens, capacidade)"
      ],
      "metadata": {
        "id": "0k7_0dexb0zk"
      },
      "execution_count": null,
      "outputs": []
    },
    {
      "cell_type": "markdown",
      "source": [
        "#### Problema do troco"
      ],
      "metadata": {
        "id": "_03pcmyGbmYW"
      }
    },
    {
      "cell_type": "code",
      "source": [
        "def troco_moedas(moedas, valor):\n",
        "    moedas.sort(reverse=True)\n",
        "    resultado = []\n",
        "\n",
        "    for moeda in moedas:\n",
        "        while valor >= moeda:\n",
        "            valor -= moeda\n",
        "            resultado.append(moeda)\n",
        "\n",
        "    return resultado\n",
        "\n",
        "moedas = [1, 5, 10, 25]\n",
        "valor = 63\n",
        "print(troco_moedas(moedas, valor))"
      ],
      "metadata": {
        "id": "LmhOnORZWypE",
        "colab": {
          "base_uri": "https://localhost:8080/"
        },
        "outputId": "5681bfa0-6da6-45b1-a29e-4073e8345395"
      },
      "execution_count": null,
      "outputs": [
        {
          "output_type": "stream",
          "name": "stdout",
          "text": [
            "[25, 25, 10, 1, 1, 1]\n"
          ]
        }
      ]
    },
    {
      "cell_type": "markdown",
      "source": [
        "### **Prim**\n",
        "\n",
        "O Algoritmo de Prim é um dos algoritmos clássicos utilizados para encontrar a Árvore Geradora Mínima (Minimum Spanning Tree - MST) de um grafo ponderado e conexo. A MST de um grafo é um subgrafo que conecta todos os vértices com o menor peso total possível, sem formar ciclos."
      ],
      "metadata": {
        "id": "E-SsStV8carz"
      }
    },
    {
      "cell_type": "code",
      "source": [
        "import heapq\n",
        "\n",
        "def prim(grafo):\n",
        "\n",
        "    mst = []\n",
        "    visitado = [False] * len(grafo.keys())\n",
        "    fila_prioridade = []\n",
        "\n",
        "    heapq.heappush(fila_prioridade, (0, 0))\n",
        "    custo_total = 0\n",
        "\n",
        "    while fila_prioridade:\n",
        "        peso, vertice = heapq.heappop(fila_prioridade)\n",
        "\n",
        "        if visitado[vertice]:\n",
        "            continue\n",
        "\n",
        "        visitado[vertice] = True\n",
        "        custo_total += peso\n",
        "\n",
        "        for vizinho, peso_aresta in grafo[vertice]:\n",
        "            if not visitado[vizinho]:\n",
        "                heapq.heappush(fila_prioridade, (peso_aresta, vizinho))\n",
        "\n",
        "    return custo_total\n",
        "\n",
        "grafo = {\n",
        "    0: [(1, 10), (2, 1), (3, 4)],\n",
        "    1: [(0, 10), (2, 3), (4, 0)],\n",
        "    2: [(0, 1), (1, 3), (3, 2), (4, 8)],\n",
        "    3: [(0, 4), (2, 2), (4, 7)],\n",
        "    4: [(1, 0), (2, 8), (3, 7)]\n",
        "}\n",
        "\n",
        "prim(grafo)"
      ],
      "metadata": {
        "colab": {
          "base_uri": "https://localhost:8080/"
        },
        "id": "tAWO5_agceUb",
        "outputId": "8282d37c-273a-4487-ee7f-3d24ffb07a26"
      },
      "execution_count": null,
      "outputs": [
        {
          "output_type": "execute_result",
          "data": {
            "text/plain": [
              "6"
            ]
          },
          "metadata": {},
          "execution_count": 38
        }
      ]
    },
    {
      "cell_type": "markdown",
      "source": [
        "### **Dijkstra**\n",
        "\n",
        "O algoritmo de Dijkstra é um método eficiente para encontrar o caminho mais curto entre um vértice de origem e todos os outros vértices de um grafo ponderado, desde que as arestas tenham pesos não negativos. O algoritmo funciona expandindo gradualmente o conjunto de vértices com a menor distância conhecida a partir da origem, atualizando iterativamente as distâncias para os vértices adjacentes."
      ],
      "metadata": {
        "id": "ihf_W6RaIhYi"
      }
    },
    {
      "cell_type": "code",
      "execution_count": null,
      "metadata": {
        "colab": {
          "base_uri": "https://localhost:8080/"
        },
        "id": "07rQusef_amt",
        "outputId": "3fec5a7c-0f0b-4b07-c705-b0c63bb70e0f"
      },
      "outputs": [
        {
          "output_type": "execute_result",
          "data": {
            "text/plain": [
              "['A', 'D', 'E']"
            ]
          },
          "metadata": {},
          "execution_count": 15
        }
      ],
      "source": [
        "from heapq import heapify, heappop, heappush\n",
        "\n",
        "# Para os caminhos menos custosos\n",
        "def dijkstra(graph, source):\n",
        "\n",
        "  distances = {node: float(\"inf\") for node in graph}\n",
        "  distances[source] = 0\n",
        "\n",
        "  pq = [(0, source)]\n",
        "  heapify(pq)\n",
        "\n",
        "  visited = set()\n",
        "\n",
        "  while pq:\n",
        "    current_distance, current_node = heappop(pq)\n",
        "\n",
        "    if current_node in visited:\n",
        "      continue\n",
        "\n",
        "    visited.add(current_node)\n",
        "\n",
        "    for neighbor, weight in graph[current_node].items():\n",
        "      tentative_distance = current_distance + weight\n",
        "\n",
        "      if tentative_distance < distances[neighbor]:\n",
        "        distances[neighbor] = tentative_distance\n",
        "        heappush(pq, (tentative_distance, neighbor))\n",
        "\n",
        "  return distances\n",
        "\n",
        "# Para caminho menos custoso e mais curto\n",
        "def shortest_path(graph, source: str, target: str):\n",
        "  distances = dijkstra(graph, source)\n",
        "\n",
        "  predecessors = {node: None for node in graph}\n",
        "\n",
        "  for node, distance in distances.items():\n",
        "    for neighbor, weight in graph[node].items():\n",
        "      if distances[neighbor] == distance + weight:\n",
        "        predecessors[neighbor] = node\n",
        "\n",
        "  path = []\n",
        "  current_node = target\n",
        "\n",
        "  while current_node:\n",
        "    path.append(current_node)\n",
        "    current_node = predecessors[current_node]\n",
        "\n",
        "  path.reverse()\n",
        "\n",
        "  return path\n",
        "\n",
        "grafo = {\n",
        "  'A': {'B': 5, 'C': 3, 'D': 2},\n",
        "  'B': {'A': 5, 'C': 2, 'E': 4},\n",
        "  'C': {'A': 3, 'B': 2, 'D': 1},\n",
        "  'D': {'A': 2, 'C': 1, 'E': 7},\n",
        "  'E': {'B': 4, 'D': 7}\n",
        "}\n",
        "\n",
        "dijkstra(grafo, 'A')\n",
        "shortest_path(grafo, 'A', 'E')"
      ]
    },
    {
      "cell_type": "markdown",
      "source": [
        "### **Busca em Largura (BFS)**\n",
        "\n",
        "A Busca em Largura (ou Breadth-First Search, BFS) é um algoritmo para percorrer ou buscar em grafos (ou árvores). Ele explora os nós (ou vértices) de forma nivelada, ou seja, primeiro visita todos os nós a uma determinada \"distância\" do nó inicial (raiz), antes de prosseguir para a próxima camada de nós. Esse comportamento torna o BFS ideal para encontrar o caminho mais curto em grafos não ponderados."
      ],
      "metadata": {
        "id": "seU155oLTgYO"
      }
    },
    {
      "cell_type": "code",
      "source": [
        "from collections import deque\n",
        "\n",
        "def bfs(grafo, inicio):\n",
        "    visitados = set()\n",
        "\n",
        "    fila = deque([inicio])\n",
        "\n",
        "    visitados.add(inicio)\n",
        "\n",
        "    while fila:\n",
        "        no_atual = fila.popleft()\n",
        "        print(no_atual)\n",
        "\n",
        "        for vizinho in grafo[no_atual]:\n",
        "            if vizinho not in visitados:\n",
        "                fila.append(vizinho)\n",
        "                visitados.add(vizinho)\n",
        "\n",
        "def bfs_caminho_mais_curto(grafo, inicio, objetivo):\n",
        "    visitados = set()\n",
        "\n",
        "    fila = deque([(inicio, [inicio])])\n",
        "\n",
        "    while fila:\n",
        "        no_atual, caminho = fila.popleft()\n",
        "\n",
        "        if no_atual == objetivo:\n",
        "            return caminho\n",
        "\n",
        "        for vizinho in grafo[no_atual]:\n",
        "            if vizinho not in visitados:\n",
        "                fila.append((vizinho, caminho + [vizinho]))\n",
        "                visitados.add(vizinho)\n",
        "\n",
        "    return None\n",
        "\n",
        "grafo = {\n",
        "    0: [1, 2],\n",
        "    1: [0, 3, 4],\n",
        "    2: [0],\n",
        "    3: [1],\n",
        "    4: [1]\n",
        "}\n",
        "\n",
        "bfs_caminho_mais_curto(grafo, 0, 4)"
      ],
      "metadata": {
        "colab": {
          "base_uri": "https://localhost:8080/"
        },
        "id": "kU7uJPLtVakl",
        "outputId": "aa6bb620-beb9-4368-f847-5e994173e108"
      },
      "execution_count": null,
      "outputs": [
        {
          "output_type": "execute_result",
          "data": {
            "text/plain": [
              "[0, 1, 4]"
            ]
          },
          "metadata": {},
          "execution_count": 30
        }
      ]
    },
    {
      "cell_type": "markdown",
      "source": [
        "### **Árvore Binária**"
      ],
      "metadata": {
        "id": "rspLDoMAaBPn"
      }
    },
    {
      "cell_type": "code",
      "source": [
        "class No:\n",
        "    def __init__(self, valor):\n",
        "        # Inicializa o nó com o valor passado e filhos à esquerda e à direita como None (vazio).\n",
        "        self.valor = valor\n",
        "        self.esquerda = None\n",
        "        self.direita = None\n",
        "\n",
        "class ArvoreBinaria:\n",
        "    def __init__(self):\n",
        "        # Inicializa a árvore binária com a raiz como None (vazia).\n",
        "        self.raiz = None\n",
        "\n",
        "    def inserir(self, valor):\n",
        "        # Método público para inserir um valor na árvore.\n",
        "        # Se a árvore estiver vazia, o novo nó se torna a raiz.\n",
        "        if self.raiz is None:\n",
        "            self.raiz = No(valor)\n",
        "        else:\n",
        "            # Caso contrário, usa o método recursivo para encontrar a posição correta.\n",
        "            self._inserir_recursivo(self.raiz, valor)\n",
        "\n",
        "    def _inserir_recursivo(self, no_atual, valor):\n",
        "        # Método auxiliar recursivo para inserir o valor na posição correta.\n",
        "        if valor < no_atual.valor:\n",
        "            # Se o valor for menor que o valor do nó atual, insere à esquerda.\n",
        "            if no_atual.esquerda is None:\n",
        "                no_atual.esquerda = No(valor)\n",
        "            else:\n",
        "                # Se a esquerda já estiver ocupada, continua a busca recursivamente.\n",
        "                self._inserir_recursivo(no_atual.esquerda, valor)\n",
        "        else:\n",
        "            # Se o valor for maior ou igual, insere à direita.\n",
        "            if no_atual.direita is None:\n",
        "                no_atual.direita = No(valor)\n",
        "            else:\n",
        "                # Se a direita já estiver ocupada, continua a busca recursivamente.\n",
        "                self._inserir_recursivo(no_atual.direita, valor)\n",
        "\n",
        "    def buscar(self, valor):\n",
        "        # Método público para buscar um valor na árvore, retorna True se encontrado.\n",
        "        return self._buscar_recursivo(self.raiz, valor)\n",
        "\n",
        "    def _buscar_recursivo(self, no_atual, valor):\n",
        "        # Método auxiliar recursivo para realizar a busca.\n",
        "        if no_atual is None:\n",
        "            # Se o nó atual for None, o valor não está na árvore.\n",
        "            return False\n",
        "        if valor == no_atual.valor:\n",
        "            # Se o valor for igual ao do nó atual, o valor foi encontrado.\n",
        "            return True\n",
        "        elif valor < no_atual.valor:\n",
        "            # Se o valor for menor, busca no filho da esquerda.\n",
        "            return self._buscar_recursivo(no_atual.esquerda, valor)\n",
        "        else:\n",
        "            # Se o valor for maior, busca no filho da direita.\n",
        "            return self._buscar_recursivo(no_atual.direita, valor)\n",
        "\n",
        "    def percurso_em_ordem(self):\n",
        "        # Método público para realizar o percurso em ordem (inorder traversal).\n",
        "        elementos = []\n",
        "        self._percurso_em_ordem_recursivo(self.raiz, elementos)\n",
        "        return elementos\n",
        "\n",
        "    def _percurso_em_ordem_recursivo(self, no_atual, elementos):\n",
        "        # Método auxiliar recursivo para percorrer a árvore em ordem.\n",
        "        if no_atual:\n",
        "            # Percorre à esquerda primeiro (menores valores).\n",
        "            self._percurso_em_ordem_recursivo(no_atual.esquerda, elementos)\n",
        "            # Adiciona o valor do nó atual à lista de elementos.\n",
        "            elementos.append(no_atual.valor)\n",
        "            # Depois percorre à direita (maiores valores).\n",
        "            self._percurso_em_ordem_recursivo(no_atual.direita, elementos)\n",
        "\n",
        "# Exemplo de uso\n",
        "arvore = ArvoreBinaria()\n",
        "arvore.inserir(10)\n",
        "arvore.inserir(5)\n",
        "arvore.inserir(15)\n",
        "arvore.inserir(3)\n",
        "arvore.inserir(7)\n",
        "\n",
        "# Percorre a árvore e imprime os valores em ordem.\n",
        "print(\"Árvore em ordem:\", arvore.percurso_em_ordem())  # Saída: [3, 5, 7, 10, 15]\n",
        "# Verifica se um valor está na árvore.\n",
        "print(\"Valor 7 está na árvore?\", arvore.buscar(7))    # Saída: True\n",
        "print(\"Valor 20 está na árvore?\", arvore.buscar(20))  # Saída: False\n"
      ],
      "metadata": {
        "colab": {
          "base_uri": "https://localhost:8080/"
        },
        "id": "eKb5Rl-mYtVi",
        "outputId": "e23b288f-0b9e-4c1a-86b7-47e57d6848d2"
      },
      "execution_count": null,
      "outputs": [
        {
          "output_type": "stream",
          "name": "stdout",
          "text": [
            "Árvore em ordem: [3, 5, 7, 10, 15]\n",
            "Valor 7 está na árvore? True\n",
            "Valor 20 está na árvore? False\n"
          ]
        }
      ]
    },
    {
      "cell_type": "markdown",
      "source": [
        "### **Busca binária**\n",
        "\n",
        "A Busca Binária é um algoritmo eficiente para encontrar um elemento em uma lista ordenada.\n"
      ],
      "metadata": {
        "id": "MratpwnYPIVE"
      }
    },
    {
      "cell_type": "code",
      "source": [
        "def binary_search(arr, target):\n",
        "  if not arr:\n",
        "    return -1\n",
        "\n",
        "  arr = sorted(arr)\n",
        "\n",
        "  mid = len(arr) // 2\n",
        "\n",
        "  if arr[mid] == target:\n",
        "    return arr[mid]\n",
        "\n",
        "  if target < arr[mid]:\n",
        "    return binary_search(arr[:mid - 1], target)\n",
        "\n",
        "  if target > arr[mid]:\n",
        "    return binary_search(arr[mid + 1:], target)\n",
        "\n",
        "lepo = [2, -23, 2323, 43, 2]\n",
        "binary_search(lepo, 2)"
      ],
      "metadata": {
        "id": "O2aTu0EBR7I4",
        "colab": {
          "base_uri": "https://localhost:8080/"
        },
        "outputId": "959c4aa0-5f9c-4a70-c9c9-8b7f053b2b60"
      },
      "execution_count": null,
      "outputs": [
        {
          "output_type": "stream",
          "name": "stdout",
          "text": [
            "2\n"
          ]
        }
      ]
    },
    {
      "cell_type": "markdown",
      "source": [
        "### **Maior Subconjunto Crescente (LIS)**"
      ],
      "metadata": {
        "id": "YxdPKFZng8hx"
      }
    },
    {
      "cell_type": "code",
      "source": [
        "def maior_subsequencia_crescente(arr):\n",
        "    n = len(arr)\n",
        "    # Cria um array para armazenar a maior subsequência crescente até cada índice\n",
        "    lis = [1] * n\n",
        "\n",
        "    # Preenche o array lis\n",
        "    for i in range(1, n):\n",
        "        for j in range(i):\n",
        "            if arr[i] > arr[j]:\n",
        "                lis[i] = max(lis[i], lis[j] + 1)\n",
        "\n",
        "    # O tamanho da maior subsequência crescente é o máximo no array lis\n",
        "    return max(lis)\n",
        "\n",
        "sequencia = [5, 2, 8, 6, 3, 6]\n",
        "resultado = maior_subsequencia_crescente(sequencia)\n",
        "\n",
        "print(\"Tamanho da maior subsequência crescente:\", resultado)\n"
      ],
      "metadata": {
        "id": "O2YD43aKhDkm",
        "outputId": "91747d87-f17b-4070-df6b-ef2f7ec8c73b",
        "colab": {
          "base_uri": "https://localhost:8080/"
        }
      },
      "execution_count": null,
      "outputs": [
        {
          "output_type": "stream",
          "name": "stdout",
          "text": [
            "Tamanho da maior subsequência crescente: 3\n"
          ]
        }
      ]
    },
    {
      "cell_type": "markdown",
      "source": [
        "### **Maior Sequência Comum (LCS)**\n",
        "\n",
        "Dada duas sequências, determine o comprimento da maior subsequência comum.\n",
        "\n"
      ],
      "metadata": {
        "id": "ggAIrbeqjj1B"
      }
    },
    {
      "cell_type": "code",
      "source": [
        "def maior_subsequencia_comum(sequencia_x, sequencia_y):\n",
        "    # Tamanho das sequências\n",
        "    tamanho_x = len(sequencia_x)\n",
        "    tamanho_y = len(sequencia_y)\n",
        "\n",
        "    # Cria uma matriz (tabela) para armazenar os comprimentos das subsequências comuns\n",
        "    tabela_dp = [[0 for _ in range(tamanho_y + 1)] for _ in range(tamanho_x + 1)]\n",
        "\n",
        "    # Preenche a tabela com os comprimentos das subsequências comuns\n",
        "    for indice_x in range(1, tamanho_x + 1):\n",
        "        for indice_y in range(1, tamanho_y + 1):\n",
        "            # Verifica se os caracteres atuais são iguais\n",
        "            if sequencia_x[indice_x - 1] == sequencia_y[indice_y - 1]:\n",
        "                tabela_dp[indice_x][indice_y] = tabela_dp[indice_x - 1][indice_y - 1] + 1\n",
        "            else:\n",
        "                # Caso contrário, pega o maior valor entre a célula acima ou à esquerda\n",
        "                tabela_dp[indice_x][indice_y] = max(tabela_dp[indice_x - 1][indice_y], tabela_dp[indice_x][indice_y - 1])\n",
        "\n",
        "    # O valor na última célula da tabela é o comprimento da maior subsequência comum\n",
        "    return tabela_dp[tamanho_x][tamanho_y]"
      ],
      "metadata": {
        "outputId": "91747d87-f17b-4070-df6b-ef2f7ec8c73b",
        "colab": {
          "base_uri": "https://localhost:8080/"
        },
        "id": "Hi9lwxW_jj1B"
      },
      "execution_count": null,
      "outputs": [
        {
          "output_type": "stream",
          "name": "stdout",
          "text": [
            "Tamanho da maior subsequência crescente: 3\n"
          ]
        }
      ]
    },
    {
      "cell_type": "markdown",
      "source": [
        "### **Distancia de Edição**\n",
        "\n",
        "Calcule a distância de edição entre duas strings, ou seja, o número mínimo de operações necessárias para transformar uma string na outra.\n",
        "\n"
      ],
      "metadata": {
        "id": "XIjb38X5j9rC"
      }
    },
    {
      "cell_type": "code",
      "source": [
        "def distancia_de_edicao(string1, string2):\n",
        "    # Tamanho das strings\n",
        "    tamanho_string1 = len(string1)\n",
        "    tamanho_string2 = len(string2)\n",
        "\n",
        "    # Cria uma matriz (tabela) para armazenar os valores da distância de edição\n",
        "    tabela_dp = [[0 for _ in range(tamanho_string2 + 1)] for _ in range(tamanho_string1 + 1)]\n",
        "\n",
        "    # Preenche a tabela com os valores da distância de edição\n",
        "    for indice1 in range(tamanho_string1 + 1):\n",
        "        for indice2 in range(tamanho_string2 + 1):\n",
        "            if indice1 == 0:\n",
        "                tabela_dp[indice1][indice2] = indice2  # Se string1 está vazia\n",
        "            elif indice2 == 0:\n",
        "                tabela_dp[indice1][indice2] = indice1  # Se string2 está vazia\n",
        "            elif string1[indice1 - 1] == string2[indice2 - 1]:\n",
        "                tabela_dp[indice1][indice2] = tabela_dp[indice1 - 1][indice2 - 1]\n",
        "            else:\n",
        "                tabela_dp[indice1][indice2] = 1 + min(tabela_dp[indice1 - 1][indice2],    # Deletar\n",
        "                                                       tabela_dp[indice1][indice2 - 1],    # Inserir\n",
        "                                                       tabela_dp[indice1 - 1][indice2 - 1])  # Substituir\n",
        "\n",
        "    # Retorna a distância de edição entre as duas strings\n",
        "    return tabela_dp[tamanho_string1][tamanho_string2]\n"
      ],
      "metadata": {
        "id": "tI39C-jekA9j"
      },
      "execution_count": null,
      "outputs": []
    },
    {
      "cell_type": "markdown",
      "source": [
        "### **Soma de Subconjunto**\n",
        "\n",
        "Dado um conjunto de números, determine se existe um subconjunto cuja soma é igual a um valor dado.\n"
      ],
      "metadata": {
        "id": "a4VuVEYRj-Rq"
      }
    },
    {
      "cell_type": "code",
      "source": [
        "def soma_de_subconjunto(numeros, alvo):\n",
        "    # Número de elementos na lista\n",
        "    n = len(numeros)\n",
        "\n",
        "    # Cria uma matriz (tabela) para armazenar os resultados das somas de subconjunto\n",
        "    tabela_dp = [[False for _ in range(alvo + 1)] for _ in range(n + 1)]\n",
        "\n",
        "    # Um subconjunto vazio sempre soma 0\n",
        "    for i in range(n + 1):\n",
        "        tabela_dp[i][0] = True\n",
        "\n",
        "    # Preenche a tabela para determinar se a soma de um subconjunto é igual ao alvo\n",
        "    for i in range(1, n + 1):\n",
        "        for j in range(1, alvo + 1):\n",
        "            if numeros[i - 1] <= j:\n",
        "                tabela_dp[i][j] = tabela_dp[i - 1][j] or tabela_dp[i - 1][j - numeros[i - 1]]\n",
        "            else:\n",
        "                tabela_dp[i][j] = tabela_dp[i - 1][j]\n",
        "\n",
        "    # Retorna se existe um subconjunto que soma ao alvo\n",
        "    return tabela_dp[n][alvo]\n"
      ],
      "metadata": {
        "id": "Gd2T1iaakBPa"
      },
      "execution_count": null,
      "outputs": []
    },
    {
      "cell_type": "markdown",
      "source": [
        "### **Problema do Caminho Mínimo (Grid)**\n",
        "\n",
        "Dado um grid (matriz) onde cada célula tem um custo, encontre o custo mínimo para ir do canto superior esquerdo ao canto inferior direito.\n"
      ],
      "metadata": {
        "id": "1ZGQQd9ej-pS"
      }
    },
    {
      "cell_type": "code",
      "source": [
        "def soma_do_caminho_minimo(matriz):\n",
        "    # Número de linhas e colunas na matriz\n",
        "    num_linhas = len(matriz)\n",
        "    num_colunas = len(matriz[0])\n",
        "\n",
        "    # Cria uma matriz (tabela) para armazenar os valores da soma do caminho mínimo\n",
        "    tabela_dp = [[0] * num_colunas for _ in range(num_linhas)]\n",
        "\n",
        "    # Inicializa o ponto de partida\n",
        "    tabela_dp[0][0] = matriz[0][0]\n",
        "\n",
        "    # Preencher a primeira linha\n",
        "    for coluna in range(1, num_colunas):\n",
        "        tabela_dp[0][coluna] = tabela_dp[0][coluna - 1] + matriz[0][coluna]\n",
        "\n",
        "    # Preencher a primeira coluna\n",
        "    for linha in range(1, num_linhas):\n",
        "        tabela_dp[linha][0] = tabela_dp[linha - 1][0] + matriz[linha][0]\n",
        "\n",
        "    # Preencher o restante da matriz\n",
        "    for linha in range(1, num_linhas):\n",
        "        for coluna in range(1, num_colunas):\n",
        "            tabela_dp[linha][coluna] = min(tabela_dp[linha - 1][coluna], tabela_dp[linha][coluna - 1]) + matriz[linha][coluna]\n",
        "\n",
        "    # Retorna a soma do caminho mínimo até o canto inferior direito\n",
        "    return tabela_dp[num_linhas - 1][num_colunas - 1]"
      ],
      "metadata": {
        "id": "avW0Q33smJpD"
      },
      "execution_count": null,
      "outputs": []
    },
    {
      "cell_type": "markdown",
      "source": [
        "### **Fatorial**"
      ],
      "metadata": {
        "id": "Q4Oq2zpSlew6"
      }
    },
    {
      "cell_type": "code",
      "source": [
        "def fatorial_recursivo(n):\n",
        "    if n < 0:\n",
        "        return \"Erro: O fatorial não é definido para números negativos.\"\n",
        "    elif n == 0 or n == 1:\n",
        "        return 1\n",
        "    else:\n",
        "        return n * fatorial_recursivo(n - 1)\n",
        "\n",
        "n = 5\n",
        "fatorial_recursivo(n)"
      ],
      "metadata": {
        "id": "J0Vxh479ljDI",
        "colab": {
          "base_uri": "https://localhost:8080/"
        },
        "outputId": "f9a4b1ec-a940-405a-bdcb-723334918642"
      },
      "execution_count": null,
      "outputs": [
        {
          "output_type": "execute_result",
          "data": {
            "text/plain": [
              "120"
            ]
          },
          "metadata": {},
          "execution_count": 44
        }
      ]
    },
    {
      "cell_type": "markdown",
      "source": [
        "### **Fibbonacci**"
      ],
      "metadata": {
        "id": "_1cIRBAYiLfJ"
      }
    },
    {
      "cell_type": "code",
      "source": [
        "def fibonacci_recursivo(n):\n",
        "    if n <= 0:\n",
        "        return 0\n",
        "    elif n == 1:\n",
        "        return 1\n",
        "    else:\n",
        "        return fibonacci_recursivo(n - 1) + fibonacci_recursivo(n - 2)\n",
        "\n",
        "n = 10\n",
        "[fibonacci_recursivo(i) for i in range(n)]"
      ],
      "metadata": {
        "id": "Rs5vqXZXiPUn",
        "colab": {
          "base_uri": "https://localhost:8080/"
        },
        "outputId": "879f80e7-342e-4504-b123-3e9e69ab79e7"
      },
      "execution_count": null,
      "outputs": [
        {
          "output_type": "execute_result",
          "data": {
            "text/plain": [
              "[0, 1, 1, 2, 3, 5, 8, 13, 21, 34]"
            ]
          },
          "metadata": {},
          "execution_count": 43
        }
      ]
    },
    {
      "cell_type": "markdown",
      "source": [
        "# **Algorítimos de Programação Dinâmica**\n"
      ],
      "metadata": {
        "id": "mFYiRcKQnOSU"
      }
    },
    {
      "cell_type": "markdown",
      "source": [
        "### 1. Soma de Subconjunto (Subset Sum)\n",
        "**Descrição:** Este algoritmo determina se existe um subconjunto de um conjunto dado de números que soma a um valor alvo.  \n",
        "**Objetivo:** Verificar a possibilidade de formar uma soma específica com um conjunto de números.  \n",
        "**Exemplo de Implementação:** Pode ser usado em problemas de alocação de recursos, como determinar se é possível escolher certos itens para atingir um orçamento específico.  \n"
      ],
      "metadata": {
        "id": "gAuLcK4Qnqu7"
      }
    },
    {
      "cell_type": "code",
      "source": [
        "def soma_de_subconjunto(numeros, alvo):\n",
        "    n = len(numeros)  # Tamanho do conjunto de números\n",
        "    # Cria uma tabela DP onde tabela_dp[i][j] será True se um subconjunto de números[0...i-1] soma a j\n",
        "    tabela_dp = [[False] * (alvo + 1) for _ in range(n + 1)]\n",
        "\n",
        "    # Um subconjunto vazio sempre pode somar a 0\n",
        "    for i in range(n + 1):\n",
        "        tabela_dp[i][0] = True\n",
        "\n",
        "    # Preenche a tabela DP\n",
        "    for i in range(1, n + 1):\n",
        "        for j in range(1, alvo + 1):\n",
        "            # Se não incluirmos o número atual\n",
        "            tabela_dp[i][j] = tabela_dp[i - 1][j]\n",
        "            # Se o número atual é menor ou igual ao valor j, verificamos se podemos formar j\n",
        "            if numeros[i - 1] <= j:\n",
        "                tabela_dp[i][j] = tabela_dp[i][j] or tabela_dp[i - 1][j - numeros[i - 1]]\n",
        "\n",
        "    return tabela_dp[n][alvo]  # Retorna se é possível formar a soma alvo\n"
      ],
      "metadata": {
        "id": "eCN_JNqIoytT"
      },
      "execution_count": null,
      "outputs": []
    },
    {
      "cell_type": "markdown",
      "source": [
        "### 2. Distância de Edição (Edit Distance)\n",
        "**Descrição:** Este algoritmo calcula a distância de edição entre duas strings, ou seja, o número mínimo de operações (inserção, deleção, substituição) necessárias para transformar uma string na outra.  \n",
        "**Objetivo:** Medir a similaridade entre duas sequências de texto.  \n",
        "**Exemplo de Implementação:** Pode ser utilizado em corretores ortográficos ou ferramentas de comparação de texto.  \n"
      ],
      "metadata": {
        "id": "USTn-VjaoaqU"
      }
    },
    {
      "cell_type": "code",
      "source": [
        "def distancia_de_edicao(str1, str2):\n",
        "    m = len(str1)  # Comprimento da primeira string\n",
        "    n = len(str2)  # Comprimento da segunda string\n",
        "    # Cria uma tabela DP para armazenar a distância de edição\n",
        "    tabela_dp = [[0 for _ in range(n + 1)] for _ in range(m + 1)]\n",
        "\n",
        "    # Preenche a tabela DP\n",
        "    for i in range(m + 1):\n",
        "        for j in range(n + 1):\n",
        "            if i == 0:\n",
        "                tabela_dp[i][j] = j  # Se str1 está vazia, precisamos de j inserções\n",
        "            elif j == 0:\n",
        "                tabela_dp[i][j] = i  # Se str2 está vazia, precisamos de i deleções\n",
        "            elif str1[i - 1] == str2[j - 1]:\n",
        "                tabela_dp[i][j] = tabela_dp[i - 1][j - 1]  # Se os caracteres são iguais, não incrementamos\n",
        "            else:\n",
        "                # Calcula o mínimo entre deletar, inserir ou substituir\n",
        "                tabela_dp[i][j] = 1 + min(tabela_dp[i - 1][j],    # Deletar\n",
        "                                           tabela_dp[i][j - 1],    # Inserir\n",
        "                                           tabela_dp[i - 1][j - 1])  # Substituir\n",
        "\n",
        "    return tabela_dp[m][n]  # Retorna a distância de edição\n"
      ],
      "metadata": {
        "id": "LDsJcL9gpkar"
      },
      "execution_count": null,
      "outputs": []
    },
    {
      "cell_type": "markdown",
      "source": [
        "### 3. Caminhos Únicos (Unique Paths)\n",
        "**Descrição:** Este algoritmo calcula o número de maneiras distintas de ir do canto superior esquerdo ao canto inferior direito de uma grade, movendo-se apenas para baixo ou para a direita.  \n",
        "**Objetivo:** Determinar o número total de caminhos possíveis em uma grade.  \n",
        "**Exemplo de Implementação:** Pode ser utilizado em jogos de tabuleiro ou em problemas de navegação em matrizes.  \n"
      ],
      "metadata": {
        "id": "ZO5o3R00ockT"
      }
    },
    {
      "cell_type": "code",
      "source": [
        "def caminhos_unicos(m, n):\n",
        "    # Cria uma tabela DP onde tabela_dp[i][j] armazenará o número de maneiras de chegar à célula (i, j)\n",
        "    tabela_dp = [[1] * n for _ in range(m)]\n",
        "\n",
        "    # Preenche a tabela DP\n",
        "    for i in range(1, m):\n",
        "        for j in range(1, n):\n",
        "            # O número de caminhos para chegar à célula (i, j) é a soma de caminhos da célula acima e da célula à esquerda\n",
        "            tabela_dp[i][j] = tabela_dp[i - 1][j] + tabela_dp[i][j - 1]\n",
        "\n",
        "    return tabela_dp[m - 1][n - 1]  # Retorna o número de caminhos para a célula (m-1, n-1)\n"
      ],
      "metadata": {
        "id": "gGZu1Bg_pg17"
      },
      "execution_count": null,
      "outputs": []
    },
    {
      "cell_type": "markdown",
      "source": [
        "### 4. Troco de Moedas (Coin Change)\n",
        "**Descrição:** Este algoritmo determina o número mínimo de moedas necessárias para fazer um valor específico usando um conjunto dado de moedas.  \n",
        "**Objetivo:** Resolver problemas de troco e otimização de recursos.  \n",
        "**Exemplo de Implementação:** Pode ser utilizado em sistemas de pagamento ou caixa eletrônico para fornecer troco.  \n"
      ],
      "metadata": {
        "id": "zLTSz08bod4D"
      }
    },
    {
      "cell_type": "code",
      "source": [
        "def troco_moedas(moedas, valor):\n",
        "    # Cria uma tabela DP onde tabela_dp[x] é o número mínimo de moedas para fazer o valor x\n",
        "    tabela_dp = [float('inf')] * (valor + 1)\n",
        "    tabela_dp[0] = 0  # Zero moedas são necessárias para fazer o valor 0\n",
        "\n",
        "    # Para cada moeda, atualiza a tabela DP\n",
        "    for moeda in moedas:\n",
        "        for x in range(moeda, valor + 1):\n",
        "            # Atualiza tabela_dp[x] com o menor número de moedas\n",
        "            tabela_dp[x] = min(tabela_dp[x], tabela_dp[x - moeda] + 1)\n",
        "\n",
        "    return tabela_dp[valor] if tabela_dp[valor] != float('inf') else -1  # Retorna -1 se não for possível\n"
      ],
      "metadata": {
        "id": "ckKHQQLIpfkr"
      },
      "execution_count": null,
      "outputs": []
    },
    {
      "cell_type": "markdown",
      "source": [
        "### 5. Corte de Roda (Rod Cutting)\n",
        "**Descrição:** Este algoritmo determina o valor máximo que pode ser obtido cortando uma barra de tamanho n em pedaços menores, com preços específicos para cada tamanho.  \n",
        "**Objetivo:** Maximizar a receita a partir de cortes de uma barra de comprimento.  \n",
        "**Exemplo de Implementação:** Pode ser utilizado em indústrias que vendem produtos cortados, como cabos ou tubos.  \n"
      ],
      "metadata": {
        "id": "0QPyEBp_og7z"
      }
    },
    {
      "cell_type": "code",
      "source": [
        "def corte_de_rodas(precos, comprimento):\n",
        "    # Cria uma tabela DP onde tabela_dp[i] é o valor máximo que pode ser obtido cortando uma barra de comprimento i\n",
        "    tabela_dp = [0] * (comprimento + 1)\n",
        "\n",
        "    # Preenche a tabela DP\n",
        "    for i in range(1, comprimento + 1):\n",
        "        for j in range(1, i + 1):\n",
        "            # Atualiza tabela_dp[i] com o máximo entre o valor atual e o valor obtido cortando a barra\n",
        "            tabela_dp[i] = max(tabela_dp[i], precos[j - 1] + tabela_dp[i - j])\n",
        "\n",
        "    return tabela_dp[comprimento]  # Retorna o valor máximo para o comprimento dado\n"
      ],
      "metadata": {
        "id": "njX3reYUpd4r"
      },
      "execution_count": null,
      "outputs": []
    },
    {
      "cell_type": "markdown",
      "source": [
        "### 6. Soma Mínima de Subconjunto (Min Subset Sum)\n",
        "**Descrição:** Este algoritmo encontra o número mínimo de elementos de um conjunto que somam a um valor alvo, se possível.  \n",
        "**Objetivo:** Resolver problemas de combinação onde um total específico precisa ser alcançado com o menor número de elementos.  \n",
        "**Exemplo de Implementação:** Pode ser utilizado em planejamento financeiro para atingir um orçamento com o menor número de despesas.  \n"
      ],
      "metadata": {
        "id": "d5szfaaRoiLT"
      }
    },
    {
      "cell_type": "code",
      "source": [
        "def menor_soma_de_subconjunto(numeros, alvo):\n",
        "    n = len(numeros)  # Tamanho do conjunto de números\n",
        "    # Cria uma tabela DP onde tabela_dp[i][j] é o número mínimo de elementos que somam j usando os primeiros i elementos\n",
        "    tabela_dp = [[float('inf')] * (alvo + 1) for _ in range(n + 1)]\n",
        "\n",
        "    # Um subconjunto vazio sempre pode somar a 0\n",
        "    for i in range(n + 1):\n",
        "        tabela_dp[i][0] = 0\n",
        "\n",
        "    # Preenche a tabela DP\n",
        "    for i in range(1, n + 1):\n",
        "        for j in range(1, alvo + 1):\n",
        "            # Se não incluirmos o número atual\n",
        "            tabela_dp[i][j] = tabela_dp[i - 1][j]\n",
        "            # Se o número atual é menor ou igual ao valor j, atualizamos o mínimo\n",
        "            if numeros[i - 1] <= j:\n",
        "                tabela_dp[i][j] = min(tabela_dp[i][j], tabela_dp[i - 1][j - numeros[i - 1]] + 1)\n",
        "\n",
        "    return tabela_dp[n][alvo] if tabela_dp[n][alvo] != float('inf') else -1  # Retorna -1 se não for possível\n"
      ],
      "metadata": {
        "id": "lPDR8CekpcMD"
      },
      "execution_count": null,
      "outputs": []
    },
    {
      "cell_type": "markdown",
      "source": [
        "### 7. Soma do Caminho Mínimo (Minimum Path Sum)\n",
        "**Descrição:** Este algoritmo encontra a soma mínima de um caminho de um canto da matriz ao outro, movendo-se apenas para baixo ou para a direita.  \n",
        "**Objetivo:** Minimizar a soma dos valores ao longo do caminho em uma grade.  \n",
        "**Exemplo de Implementação:** Pode ser utilizado em jogos, onde o jogador deve minimizar o custo de movimento.  \n"
      ],
      "metadata": {
        "id": "Quxhe93soj9L"
      }
    },
    {
      "cell_type": "code",
      "source": [
        "def soma_do_caminho_minimo(matriz):\n",
        "    num_linhas = len(matriz)  # Número de linhas na matriz\n",
        "    num_colunas = len(matriz[0])  # Número de colunas na matriz\n",
        "    # Cria uma tabela DP para armazenar a soma mínima até cada célula\n",
        "    tabela_dp = [[0] * num_colunas for _ in range(num_linhas)]\n",
        "\n",
        "    tabela_dp[0][0] = matriz[0][0]  # A soma mínima para a célula (0,0) é o próprio valor\n",
        "\n",
        "    # Preenche a primeira linha (só pode vir da esquerda)\n",
        "    for coluna in range(1, num_colunas):\n",
        "        tabela_dp[0][coluna] = tabela_dp[0][coluna - 1] + matriz[0][coluna]\n",
        "\n",
        "    # Preenche a primeira coluna (só pode vir de cima)\n",
        "    for linha in range(1, num_linhas):\n",
        "        tabela_dp[linha][0] = tabela_dp[linha - 1][0] + matriz[linha][0]\n",
        "\n",
        "    # Preenche o restante da tabela DP\n",
        "    for linha in range(1, num_linhas):\n",
        "        for coluna in range(1, num_colunas):\n",
        "            # A soma mínima para a célula (linha, coluna) é o valor atual mais o mínimo entre a célula acima e a célula à esquerda\n",
        "            tabela_dp[linha][coluna] = min(tabela_dp[linha - 1][coluna], tabela_dp[linha][coluna - 1]) + matriz[linha][coluna]\n",
        "\n",
        "    return tabela_dp[num_linhas - 1][num_colunas - 1]  # Retorna a soma mínima para a célula (num_linhas-1, num_colunas-1)\n"
      ],
      "metadata": {
        "id": "N0RD9bd7pUfs"
      },
      "execution_count": null,
      "outputs": []
    },
    {
      "cell_type": "markdown",
      "source": [
        "### 8. Maior Subsequência Comum (Longest Common Subsequence)\n",
        "**Descrição:** Este algoritmo encontra a maior subsequência comum entre duas strings, ou seja, a sequência mais longa que pode ser encontrada em ambas as strings sem reordenar os caracteres.  \n",
        "**Objetivo:** Medir a similaridade entre duas sequências e encontrar a maior sequência que aparece em ambas.  \n",
        "**Exemplo de Implementação:** Pode ser utilizado em comparação de sequências de DNA ou em ferramentas de comparação de código-fonte.  \n"
      ],
      "metadata": {
        "id": "D1cvfElcolyL"
      }
    },
    {
      "cell_type": "code",
      "source": [
        "def maior_subsequencia_comum(X, Y):\n",
        "    m = len(X)  # Comprimento da primeira string\n",
        "    n = len(Y)  # Comprimento da segunda string\n",
        "    # Cria uma tabela DP para armazenar os comprimentos das subsequências\n",
        "    tabela_dp = [[0 for _ in range(n + 1)] for _ in range(m + 1)]\n",
        "\n",
        "    # Preenche a tabela DP\n",
        "    for i in range(1, m + 1):\n",
        "        for j in range(1, n + 1):\n",
        "            if X[i - 1] == Y[j - 1]:\n",
        "                tabela_dp[i][j] = tabela_dp[i - 1][j - 1] + 1  # Caractere comum encontrado\n",
        "            else:\n",
        "                # Mantém o máximo encontrado entre excluir um caractere de cada string\n",
        "                tabela_dp[i][j] = max(tabela_dp[i - 1][j], tabela_dp[i][j - 1])\n",
        "\n",
        "    return tabela_dp[m][n]  # Retorna o comprimento da maior subsequência comum\n"
      ],
      "metadata": {
        "id": "yKSlhbc0pSmD"
      },
      "execution_count": null,
      "outputs": []
    },
    {
      "cell_type": "markdown",
      "source": [
        "### 9. Maior Subconjunto Crescente (Longest Increasing Subsequence)\n",
        "**Descrição:** Este algoritmo encontra a maior subsequência crescente dentro de um array de números. A subsequência não precisa ser contígua, mas os elementos devem ser selecionados na mesma ordem em que aparecem.  \n",
        "**Objetivo:** Determinar a sequência mais longa de números em ordem crescente.  \n",
        "**Exemplo de Implementação:** Pode ser utilizado em análise de séries temporais, onde se busca identificar tendências crescentes.  \n"
      ],
      "metadata": {
        "id": "oTBTnnT-onh0"
      }
    },
    {
      "cell_type": "code",
      "source": [
        "def maior_subconjunto_crescente(numeros):\n",
        "    if not numeros:  # Se a lista está vazia, retorna 0\n",
        "        return 0\n",
        "\n",
        "    # Cria um array para armazenar o comprimento da maior subsequência crescente até cada índice\n",
        "    tabela_dp = [1] * len(numeros)\n",
        "\n",
        "    # Preenche a tabela com base na lógica de subsequência crescente\n",
        "    for i in range(1, len(numeros)):\n",
        "        for j in range(i):\n",
        "            if numeros[i] > numeros[j]:  # Se o número atual é maior que o anterior\n",
        "                tabela_dp[i] = max(tabela_dp[i], tabela_dp[j] + 1)  # Atualiza o comprimento máximo\n",
        "\n",
        "    return max(tabela_dp)  # Retorna o comprimento da maior subsequência crescente\n"
      ],
      "metadata": {
        "id": "FFqzT30hpQ0a"
      },
      "execution_count": null,
      "outputs": []
    }
  ]
}